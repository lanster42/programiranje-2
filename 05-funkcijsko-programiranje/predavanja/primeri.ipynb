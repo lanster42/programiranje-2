{
 "cells": [
  {
   "cell_type": "markdown",
   "metadata": {},
   "source": [
    "# Zaprtja in iteratorji"
   ]
  },
  {
   "cell_type": "markdown",
   "metadata": {},
   "source": [
    "## Zaprtja"
   ]
  },
  {
   "cell_type": "code",
   "execution_count": 5,
   "metadata": {},
   "outputs": [
    {
     "data": {
      "text/plain": [
       "21"
      ]
     },
     "execution_count": 5,
     "metadata": {},
     "output_type": "execute_result"
    }
   ],
   "source": [
    "// fun x -> 2 * x + 1\n",
    "// lambda x: 2 * x + 1\n",
    "\n",
    "fn dvakrat_x_plus_ena(x: i32) -> i32 {\n",
    "    2 * x + 1\n",
    "}\n",
    "\n",
    "// let dvakrat_x_plus_ena x = 2 * x + 1\n",
    "// let dvakrat_x_plus_ena = fun x -> 2 * x + 1\n",
    "\n",
    "// let zmnozi x y = x * y\n",
    "// let zmnozi = fun x -> fun y -> x * y\n",
    "\n",
    "{\n",
    "    let f = |x: i32| -> i32 { 2 * x + 1 };\n",
    "    f(10)\n",
    "}"
   ]
  },
  {
   "cell_type": "code",
   "execution_count": 8,
   "metadata": {},
   "outputs": [],
   "source": [
    ":dep rand = {version = \"0.8.5\"}"
   ]
  },
  {
   "cell_type": "code",
   "execution_count": 13,
   "metadata": {},
   "outputs": [
    {
     "name": "stdout",
     "output_type": "stream",
     "text": [
      "f(x): 1, g(x): 1\n",
      "f(x): 94, g(x): 34\n",
      "f(x): 3, g(x): 3\n",
      "f(x): 87, g(x): 76\n",
      "f(x): 5, g(x): 5\n"
     ]
    },
    {
     "data": {
      "text/plain": [
       "()"
      ]
     },
     "execution_count": 13,
     "metadata": {},
     "output_type": "execute_result"
    }
   ],
   "source": [
    "use rand::Rng;\n",
    "\n",
    "{\n",
    "    let v = vec![Some(1), None, Some(3), None, Some(5)];\n",
    "    let f = |x: Option<i32>| x.unwrap_or_else(|| rand::thread_rng().gen_range(1..=100));\n",
    "    let g = |x: Option<i32>| x.unwrap_or(rand::thread_rng().gen_range(1..=100));\n",
    "    for x in v {\n",
    "        println!(\"f(x): {}, g(x): {}\", f(x), g(x));\n",
    "    }\n",
    "}"
   ]
  },
  {
   "cell_type": "code",
   "execution_count": 24,
   "metadata": {},
   "outputs": [
    {
     "ename": "Error",
     "evalue": "borrow of moved value: `list`",
     "output_type": "error",
     "traceback": [
      "    vzame(list);",
      "          ^^^^ value moved here",
      "    println!(\"Še vedno seznam {:?}\", list);",
      "                                     ^^^^ value borrowed here after move",
      "    let list = vec![1, 2, 3];",
      "        ^^^^ move occurs because `list` has type `Vec<i32>`, which does not implement the `Copy` trait",
      "borrow of moved value: `list`",
      "help: consider cloning the value if the performance cost is acceptable\n\n.clone()"
     ]
    }
   ],
   "source": [
    "fn vzame(list: Vec<i32>) {\n",
    "    println!(\"To je seznam {:?}\", list);\n",
    "}\n",
    "\n",
    "{\n",
    "    let list = vec![1, 2, 3];\n",
    "    vzame(list);\n",
    "    println!(\"Še vedno seznam {:?}\", list);\n",
    "}"
   ]
  },
  {
   "cell_type": "code",
   "execution_count": 25,
   "metadata": {},
   "outputs": [
    {
     "name": "stdout",
     "output_type": "stream",
     "text": [
      "To je seznam [1, 2, 3]\n",
      "Še vedno seznam [1, 2, 3]\n"
     ]
    },
    {
     "data": {
      "text/plain": [
       "()"
      ]
     },
     "execution_count": 25,
     "metadata": {},
     "output_type": "execute_result"
    }
   ],
   "source": [
    "fn sposodi(list: &Vec<i32>) {\n",
    "    println!(\"To je seznam {:?}\", list);\n",
    "}\n",
    "\n",
    "{\n",
    "    let list = vec![1, 2, 3];\n",
    "    sposodi(&list);\n",
    "    println!(\"Še vedno seznam {:?}\", list);\n",
    "}"
   ]
  },
  {
   "cell_type": "code",
   "execution_count": 23,
   "metadata": {},
   "outputs": [
    {
     "name": "stdout",
     "output_type": "stream",
     "text": [
      "To je seznam [1, 2, 3]\n",
      "Še vedno seznam [1, 2, 3]\n"
     ]
    },
    {
     "data": {
      "text/plain": [
       "()"
      ]
     },
     "execution_count": 23,
     "metadata": {},
     "output_type": "execute_result"
    }
   ],
   "source": [
    "{\n",
    "    let list = vec![1, 2, 3];\n",
    "    let cl = || println!(\"To je seznam {:?}\", list);\n",
    "    cl();\n",
    "    println!(\"Še vedno seznam {:?}\", list);\n",
    "}"
   ]
  },
  {
   "cell_type": "code",
   "execution_count": 27,
   "metadata": {},
   "outputs": [
    {
     "ename": "Error",
     "evalue": "borrow of moved value: `list`",
     "output_type": "error",
     "traceback": [
      "    let cl = || vzame(list);",
      "             ^^ value moved into closure here",
      "    let cl = || vzame(list);",
      "                      ^^^^ variable moved due to use in closure",
      "    println!(\"Še vedno seznam {:?}\", list);",
      "                                     ^^^^ value borrowed here after move",
      "    let list = vec![1, 2, 3];",
      "        ^^^^ move occurs because `list` has type `Vec<i32>`, which does not implement the `Copy` trait",
      "borrow of moved value: `list`"
     ]
    }
   ],
   "source": [
    "fn vzame(list: Vec<i32>) {\n",
    "    println!(\"To je seznam {:?}\", list);\n",
    "}\n",
    "\n",
    "{\n",
    "    let list = vec![1, 2, 3];\n",
    "    let cl = || vzame(list);\n",
    "    cl();\n",
    "    println!(\"Še vedno seznam {:?}\", list);\n",
    "}"
   ]
  },
  {
   "cell_type": "code",
   "execution_count": 29,
   "metadata": {},
   "outputs": [
    {
     "ename": "Error",
     "evalue": "cannot borrow `cl` as mutable, as it is not declared as mutable",
     "output_type": "error",
     "traceback": [
      "    cl();",
      "    ^^ cannot borrow as mutable",
      "    let cl = || list.push(4);",
      "                ^^^^ calling `cl` requires mutable binding due to mutable borrow of `list`",
      "cannot borrow `cl` as mutable, as it is not declared as mutable",
      "help: consider changing this to be mutable\n\nmut"
     ]
    }
   ],
   "source": [
    "{\n",
    "    let mut list = vec![1, 2, 3];\n",
    "    let cl = || list.push(4);\n",
    "    cl();\n",
    "    println!(\"Še vedno seznam {:?}\", list);\n",
    "}"
   ]
  },
  {
   "cell_type": "code",
   "execution_count": 30,
   "metadata": {},
   "outputs": [
    {
     "name": "stdout",
     "output_type": "stream",
     "text": [
      "Še vedno seznam [1, 2, 3, 4]\n"
     ]
    },
    {
     "data": {
      "text/plain": [
       "()"
      ]
     },
     "execution_count": 30,
     "metadata": {},
     "output_type": "execute_result"
    }
   ],
   "source": [
    "{\n",
    "    let mut list = vec![1, 2, 3];\n",
    "    let mut cl = || list.push(4);\n",
    "    cl();\n",
    "    println!(\"Še vedno seznam {:?}\", list);\n",
    "}"
   ]
  },
  {
   "cell_type": "code",
   "execution_count": 31,
   "metadata": {},
   "outputs": [
    {
     "ename": "Error",
     "evalue": "cannot borrow `list` as immutable because it is also borrowed as mutable",
     "output_type": "error",
     "traceback": [
      "    println!(\"Na začetku je {:?}\", list);",
      "                                   ^^^^ immutable borrow occurs here",
      "    let mut cl = || list.push(4);",
      "                 ^^ mutable borrow occurs here",
      "    let mut cl = || list.push(4);",
      "                    ^^^^ first borrow occurs due to use of `list` in closure",
      "    cl();",
      "    ^^ mutable borrow later used here",
      "cannot borrow `list` as immutable because it is also borrowed as mutable"
     ]
    }
   ],
   "source": [
    "{\n",
    "    let mut list = vec![1, 2, 3];\n",
    "    let mut cl = || list.push(4);\n",
    "    println!(\"Na začetku je {:?}\", list);\n",
    "    cl();\n",
    "    println!(\"Še vedno seznam {:?}\", list);\n",
    "}"
   ]
  },
  {
   "cell_type": "code",
   "execution_count": 32,
   "metadata": {},
   "outputs": [
    {
     "name": "stdout",
     "output_type": "stream",
     "text": [
      "Na začetku je [1, 2, 3]\n",
      "Še vedno seznam [1, 2, 3, 4]\n"
     ]
    },
    {
     "data": {
      "text/plain": [
       "()"
      ]
     },
     "execution_count": 32,
     "metadata": {},
     "output_type": "execute_result"
    }
   ],
   "source": [
    "{\n",
    "    let mut list = vec![1, 2, 3];\n",
    "    println!(\"Na začetku je {:?}\", list);\n",
    "    let mut cl = || list.push(4);\n",
    "    cl();\n",
    "    println!(\"Še vedno seznam {:?}\", list);\n",
    "}"
   ]
  },
  {
   "cell_type": "code",
   "execution_count": 35,
   "metadata": {},
   "outputs": [
    {
     "name": "stdout",
     "output_type": "stream",
     "text": [
      "Na začetku je [1, 2, 3, 4]\n",
      "Še vedno seznam [1, 2, 3, 4]\n"
     ]
    },
    {
     "data": {
      "text/plain": [
       "()"
      ]
     },
     "execution_count": 35,
     "metadata": {},
     "output_type": "execute_result"
    }
   ],
   "source": [
    "{\n",
    "    let mut list = vec![1, 2, 3];\n",
    "    list.push(4);\n",
    "    println!(\"Na začetku je {:?}\", list);\n",
    "    println!(\"Še vedno seznam {:?}\", list);\n",
    "}"
   ]
  },
  {
   "cell_type": "code",
   "execution_count": 33,
   "metadata": {},
   "outputs": [
    {
     "name": "stdout",
     "output_type": "stream",
     "text": [
      "Na začetku je [1, 2, 3]\n",
      "Še vedno seznam [1, 2, 3, 4, 5, 6]\n"
     ]
    },
    {
     "data": {
      "text/plain": [
       "()"
      ]
     },
     "execution_count": 33,
     "metadata": {},
     "output_type": "execute_result"
    }
   ],
   "source": [
    "{\n",
    "    let mut list = vec![1, 2, 3];\n",
    "    println!(\"Na začetku je {:?}\", list);\n",
    "    let mut f = |x| list.push(x);\n",
    "    for y in seznam_od_uporabniak {\n",
    "        f(y);\n",
    "    }\n",
    "    println!(\"Še vedno seznam {:?}\", list);\n",
    "}"
   ]
  },
  {
   "cell_type": "code",
   "execution_count": 37,
   "metadata": {},
   "outputs": [
    {
     "name": "stdout",
     "output_type": "stream",
     "text": [
      "Še vedno seznam [1, 2, 3]\n"
     ]
    },
    {
     "data": {
      "text/plain": [
       "()"
      ]
     },
     "execution_count": 37,
     "metadata": {},
     "output_type": "execute_result"
    }
   ],
   "source": [
    "{\n",
    "    let mut list = vec![1, 2, 3];\n",
    "    let f = || println!(\"Še vedno seznam {:?}\", list);\n",
    "    f();\n",
    "    list.push(4);\n",
    "    f();\n",
    "}"
   ]
  },
  {
   "cell_type": "markdown",
   "metadata": {},
   "source": [
    "## Iteratorji"
   ]
  },
  {
   "cell_type": "markdown",
   "metadata": {},
   "source": [
    "```python\n",
    "class MojRazred:\n",
    "\n",
    "    def __next__():\n",
    "        ...\n",
    "```"
   ]
  },
  {
   "cell_type": "code",
   "execution_count": null,
   "metadata": {},
   "outputs": [],
   "source": [
    "pub trait Iterator {\n",
    "    type Item;\n",
    "\n",
    "    fn next(&mut self) -> Option<Self::Item>;\n",
    "\n",
    "    // methods with default implementations elided\n",
    "}"
   ]
  },
  {
   "cell_type": "code",
   "execution_count": null,
   "metadata": {},
   "outputs": [],
   "source": [
    "struct ArithSequenceIter {\n",
    "    zaporedje: ArithSequence<i64>,\n",
    "    trenutni_clen: u64,\n",
    "}\n",
    "\n",
    "impl Iterator for ArithSequenceIter {\n",
    "    type Item = i64;\n",
    "\n",
    "    fn next(&mut self) -> Option<Self::Item> {\n",
    "        Some(self.zaporedje.k_ti_clen(self.trenutni_clen))\n",
    "    };\n",
    "\n",
    "    // methods with default implementations elided\n",
    "}"
   ]
  }
 ],
 "metadata": {
  "kernelspec": {
   "display_name": "Rust",
   "language": "rust",
   "name": "rust"
  },
  "language_info": {
   "codemirror_mode": "rust",
   "file_extension": ".rs",
   "mimetype": "text/rust",
   "name": "rust",
   "pygment_lexer": "rust",
   "version": ""
  }
 },
 "nbformat": 4,
 "nbformat_minor": 2
}
